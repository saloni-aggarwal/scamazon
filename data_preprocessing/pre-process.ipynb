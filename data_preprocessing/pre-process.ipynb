{
 "cells": [
  {
   "cell_type": "code",
   "execution_count": 1,
   "metadata": {},
   "outputs": [],
   "source": [
    "import pandas as pd\n",
    "import numpy as np\n",
    "import matplotlib.pyplot as plt\n",
    "import seaborn as sns\n",
    "import os\n",
    "pd.set_option('display.max_columns', None)\n"
   ]
  },
  {
   "cell_type": "code",
   "execution_count": 2,
   "metadata": {},
   "outputs": [
    {
     "data": {
      "application/javascript": "IPython.OutputArea.prototype._should_scroll = function(lines) {\n    return false;\n}\n",
      "text/plain": [
       "<IPython.core.display.Javascript object>"
      ]
     },
     "metadata": {},
     "output_type": "display_data"
    }
   ],
   "source": [
    "%%javascript\n",
    "IPython.OutputArea.prototype._should_scroll = function(lines) {\n",
    "    return false;\n",
    "}"
   ]
  },
  {
   "cell_type": "code",
   "execution_count": null,
   "metadata": {},
   "outputs": [],
   "source": [
    "file = 'amazon-product-reviews-large.csv'\n",
    "df = pd.read_csv(os.path.join(\"data/\", file))\n",
    "df.head()"
   ]
  },
  {
   "cell_type": "markdown",
   "metadata": {},
   "source": [
    "# Remove redundant columns"
   ]
  },
  {
   "cell_type": "code",
   "execution_count": 4,
   "metadata": {},
   "outputs": [
    {
     "data": {
      "text/plain": [
       "Index(['id', 'dateAdded', 'dateUpdated', 'name', 'asins', 'brand',\n",
       "       'categories', 'primaryCategories', 'imageURLs', 'keys', 'manufacturer',\n",
       "       'manufacturerNumber', 'reviews.date', 'reviews.dateSeen',\n",
       "       'reviews.didPurchase', 'reviews.doRecommend', 'reviews.id',\n",
       "       'reviews.numHelpful', 'reviews.rating', 'reviews.sourceURLs',\n",
       "       'reviews.text', 'reviews.title', 'reviews.username', 'sourceURLs'],\n",
       "      dtype='object')"
      ]
     },
     "execution_count": 4,
     "metadata": {},
     "output_type": "execute_result"
    }
   ],
   "source": [
    "df.columns"
   ]
  },
  {
   "cell_type": "code",
   "execution_count": 5,
   "metadata": {},
   "outputs": [],
   "source": [
    "cols = ['name', 'asins', 'categories', 'primaryCategories', 'imageURLs', 'manufacturer',\n",
    "       'reviews.date','reviews.doRecommend', 'reviews.numHelpful', 'reviews.rating', 'reviews.sourceURLs',\n",
    "       'reviews.text', 'reviews.title', 'reviews.username', 'sourceURLs']"
   ]
  },
  {
   "cell_type": "code",
   "execution_count": 6,
   "metadata": {},
   "outputs": [
    {
     "name": "stdout",
     "output_type": "stream",
     "text": [
      "<class 'pandas.core.frame.DataFrame'>\n",
      "RangeIndex: 28332 entries, 0 to 28331\n",
      "Data columns (total 15 columns):\n",
      " #   Column               Non-Null Count  Dtype  \n",
      "---  ------               --------------  -----  \n",
      " 0   name                 28332 non-null  object \n",
      " 1   asins                28332 non-null  object \n",
      " 2   categories           28332 non-null  object \n",
      " 3   primaryCategories    28332 non-null  object \n",
      " 4   imageURLs            28332 non-null  object \n",
      " 5   manufacturer         28332 non-null  object \n",
      " 6   reviews.date         28332 non-null  object \n",
      " 7   reviews.doRecommend  16086 non-null  object \n",
      " 8   reviews.numHelpful   16115 non-null  float64\n",
      " 9   reviews.rating       28332 non-null  int64  \n",
      " 10  reviews.sourceURLs   28332 non-null  object \n",
      " 11  reviews.text         28332 non-null  object \n",
      " 12  reviews.title        28332 non-null  object \n",
      " 13  reviews.username     28332 non-null  object \n",
      " 14  sourceURLs           28332 non-null  object \n",
      "dtypes: float64(1), int64(1), object(13)\n",
      "memory usage: 3.2+ MB\n"
     ]
    }
   ],
   "source": [
    "df= df[cols]\n",
    "df.info()"
   ]
  },
  {
   "cell_type": "code",
   "execution_count": 10,
   "metadata": {},
   "outputs": [],
   "source": [
    "df.fillna({'reviews.doRecommend': 'Unavailable', 'reviews.numHelpful': 'Unavailable'}, inplace=True)"
   ]
  },
  {
   "cell_type": "code",
   "execution_count": 11,
   "metadata": {
    "scrolled": true
   },
   "outputs": [
    {
     "name": "stdout",
     "output_type": "stream",
     "text": [
      "<class 'pandas.core.frame.DataFrame'>\n",
      "RangeIndex: 28332 entries, 0 to 28331\n",
      "Data columns (total 15 columns):\n",
      " #   Column               Non-Null Count  Dtype \n",
      "---  ------               --------------  ----- \n",
      " 0   name                 28332 non-null  object\n",
      " 1   asins                28332 non-null  object\n",
      " 2   categories           28332 non-null  object\n",
      " 3   primaryCategories    28332 non-null  object\n",
      " 4   imageURLs            28332 non-null  object\n",
      " 5   manufacturer         28332 non-null  object\n",
      " 6   reviews.date         28332 non-null  object\n",
      " 7   reviews.doRecommend  28332 non-null  object\n",
      " 8   reviews.numHelpful   28332 non-null  object\n",
      " 9   reviews.rating       28332 non-null  int64 \n",
      " 10  reviews.sourceURLs   28332 non-null  object\n",
      " 11  reviews.text         28332 non-null  object\n",
      " 12  reviews.title        28332 non-null  object\n",
      " 13  reviews.username     28332 non-null  object\n",
      " 14  sourceURLs           28332 non-null  object\n",
      "dtypes: int64(1), object(14)\n",
      "memory usage: 3.2+ MB\n"
     ]
    }
   ],
   "source": [
    "df.info()"
   ]
  },
  {
   "cell_type": "code",
   "execution_count": 16,
   "metadata": {},
   "outputs": [
    {
     "data": {
      "text/plain": [
       "65"
      ]
     },
     "execution_count": 16,
     "metadata": {},
     "output_type": "execute_result"
    }
   ],
   "source": [
    "#there are 65 unique products being reviewed\n",
    "len(df.name.unique())"
   ]
  },
  {
   "cell_type": "code",
   "execution_count": 47,
   "metadata": {},
   "outputs": [
    {
     "data": {
      "text/plain": [
       "65"
      ]
     },
     "execution_count": 47,
     "metadata": {},
     "output_type": "execute_result"
    }
   ],
   "source": [
    "#product IDs must be 65 corr to product names\n",
    "len(df.asins.unique())"
   ]
  },
  {
   "cell_type": "code",
   "execution_count": 48,
   "metadata": {},
   "outputs": [
    {
     "data": {
      "text/plain": [
       "16269"
      ]
     },
     "execution_count": 48,
     "metadata": {},
     "output_type": "execute_result"
    }
   ],
   "source": [
    "#there are 16269 unique reviewers \n",
    "len(df['reviews.username'].unique())"
   ]
  },
  {
   "cell_type": "code",
   "execution_count": 50,
   "metadata": {},
   "outputs": [
    {
     "data": {
      "text/plain": [
       "60"
      ]
     },
     "execution_count": 50,
     "metadata": {},
     "output_type": "execute_result"
    }
   ],
   "source": [
    "#60 unique categories\n",
    "len(df['categories'].unique())"
   ]
  },
  {
   "cell_type": "code",
   "execution_count": 17,
   "metadata": {},
   "outputs": [
    {
     "name": "stdout",
     "output_type": "stream",
     "text": [
      "Collecting Faker\n",
      "  Downloading Faker-13.3.2-py3-none-any.whl (1.5 MB)\n",
      "Requirement already satisfied: python-dateutil>=2.4 in c:\\users\\ketak\\anaconda3\\lib\\site-packages (from Faker) (2.8.1)\n",
      "Requirement already satisfied: six>=1.5 in c:\\users\\ketak\\anaconda3\\lib\\site-packages (from python-dateutil>=2.4->Faker) (1.15.0)\n",
      "Installing collected packages: Faker\n",
      "Successfully installed Faker-13.3.2\n"
     ]
    },
    {
     "name": "stderr",
     "output_type": "stream",
     "text": [
      "WARNING: You are using pip version 20.3.3; however, version 22.0.4 is available.\n",
      "You should consider upgrading via the 'c:\\users\\ketak\\anaconda3\\python.exe -m pip install --upgrade pip' command.\n"
     ]
    }
   ],
   "source": [
    "!pip install Faker"
   ]
  },
  {
   "cell_type": "code",
   "execution_count": 4,
   "metadata": {},
   "outputs": [],
   "source": [
    "from faker import Faker\n",
    "fake = Faker()"
   ]
  },
  {
   "cell_type": "code",
   "execution_count": 5,
   "metadata": {},
   "outputs": [],
   "source": [
    "Faker.seed(0)\n",
    "location = []\n",
    "for _ in range(28332):\n",
    "    location.append(fake.local_latlng())"
   ]
  },
  {
   "cell_type": "code",
   "execution_count": 6,
   "metadata": {},
   "outputs": [
    {
     "name": "stdout",
     "output_type": "stream",
     "text": [
      "26.826999\n",
      "45.792650\n",
      "-158.265114\n",
      "-40.995129\n",
      "94.488524\n"
     ]
    }
   ],
   "source": [
    "Faker.seed(0)\n",
    "for _ in range(5):\n",
    "    print(fake.longitude())"
   ]
  },
  {
   "cell_type": "code",
   "execution_count": 46,
   "metadata": {},
   "outputs": [
    {
     "data": {
      "text/plain": [
       "True"
      ]
     },
     "execution_count": 46,
     "metadata": {},
     "output_type": "execute_result"
    }
   ],
   "source": [
    "len(location) == len(df)"
   ]
  },
  {
   "cell_type": "code",
   "execution_count": 60,
   "metadata": {},
   "outputs": [
    {
     "data": {
      "text/plain": [
       "[('40.72371', '-73.95097', 'Greenpoint', 'US', 'America/New_York'),\n",
       " ('41.48199', '-81.79819', 'Lakewood', 'US', 'America/New_York'),\n",
       " ('30.17746', '-81.38758', 'Palm Valley', 'US', 'America/New_York'),\n",
       " ('41.72059', '-87.70172', 'Evergreen Park', 'US', 'America/Chicago'),\n",
       " ('33.93113', '-117.54866', 'Norco', 'US', 'America/Los_Angeles'),\n",
       " ('33.03699', '-117.29198', 'Encinitas', 'US', 'America/Los_Angeles'),\n",
       " ('41.0051', '-73.78458', 'Scarsdale', 'US', 'America/New_York'),\n",
       " ('42.4251', '-71.06616', 'Malden', 'US', 'America/New_York'),\n",
       " ('34.09668', '-117.71978', 'Claremont', 'US', 'America/Los_Angeles'),\n",
       " ('40.72816', '-74.07764', 'Jersey City', 'US', 'America/New_York')]"
      ]
     },
     "execution_count": 60,
     "metadata": {},
     "output_type": "execute_result"
    }
   ],
   "source": [
    "location[:10]"
   ]
  },
  {
   "cell_type": "code",
   "execution_count": 66,
   "metadata": {},
   "outputs": [
    {
     "data": {
      "text/plain": [
       "('Greenpoint', 'US', 'America/New_York')"
      ]
     },
     "execution_count": 66,
     "metadata": {},
     "output_type": "execute_result"
    }
   ],
   "source": [
    "location[0][2:]"
   ]
  },
  {
   "cell_type": "code",
   "execution_count": 68,
   "metadata": {},
   "outputs": [],
   "source": [
    "latitude, longitude, place = [], [], []"
   ]
  },
  {
   "cell_type": "code",
   "execution_count": 69,
   "metadata": {},
   "outputs": [],
   "source": [
    "for i in range(len(location)):\n",
    "    latitude.append(location[i][0])\n",
    "    longitude.append(location[i][1])\n",
    "    place.append(location[0][2:])"
   ]
  },
  {
   "cell_type": "code",
   "execution_count": 70,
   "metadata": {},
   "outputs": [
    {
     "name": "stdout",
     "output_type": "stream",
     "text": [
      "28332 28332 28332\n"
     ]
    }
   ],
   "source": [
    "print(len(latitude), len(longitude), len(place))"
   ]
  },
  {
   "cell_type": "code",
   "execution_count": 79,
   "metadata": {},
   "outputs": [
    {
     "name": "stdout",
     "output_type": "stream",
     "text": [
      "<class 'pandas.core.frame.DataFrame'>\n",
      "RangeIndex: 28332 entries, 0 to 28331\n",
      "Data columns (total 18 columns):\n",
      " #   Column               Non-Null Count  Dtype \n",
      "---  ------               --------------  ----- \n",
      " 0   name                 28332 non-null  object\n",
      " 1   asins                28332 non-null  object\n",
      " 2   categories           28332 non-null  object\n",
      " 3   primaryCategories    28332 non-null  object\n",
      " 4   imageURLs            28332 non-null  object\n",
      " 5   manufacturer         28332 non-null  object\n",
      " 6   reviews.date         28332 non-null  object\n",
      " 7   reviews.doRecommend  28332 non-null  object\n",
      " 8   reviews.numHelpful   28332 non-null  object\n",
      " 9   reviews.rating       28332 non-null  int64 \n",
      " 10  reviews.sourceURLs   28332 non-null  object\n",
      " 11  reviews.text         28332 non-null  object\n",
      " 12  reviews.title        28332 non-null  object\n",
      " 13  reviews.username     28332 non-null  object\n",
      " 14  sourceURLs           28332 non-null  object\n",
      " 15  latitude             28332 non-null  object\n",
      " 16  longitude            28332 non-null  object\n",
      " 17  location             28332 non-null  object\n",
      "dtypes: int64(1), object(17)\n",
      "memory usage: 3.9+ MB\n"
     ]
    }
   ],
   "source": [
    "df.info()"
   ]
  }
 ],
 "metadata": {
  "kernelspec": {
   "display_name": "Python 3",
   "language": "python",
   "name": "python3"
  },
  "language_info": {
   "codemirror_mode": {
    "name": "ipython",
    "version": 3
   },
   "file_extension": ".py",
   "mimetype": "text/x-python",
   "name": "python",
   "nbconvert_exporter": "python",
   "pygments_lexer": "ipython3",
   "version": "3.8.5"
  }
 },
 "nbformat": 4,
 "nbformat_minor": 4
}
