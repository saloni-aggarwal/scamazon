{
 "cells": [
  {
   "cell_type": "code",
   "execution_count": 1,
   "metadata": {},
   "outputs": [],
   "source": [
    "import pandas as pd\n",
    "import numpy as np\n",
    "import matplotlib.pyplot as plt\n",
    "import seaborn as sns\n",
    "import os\n",
    "pd.set_option('display.max_columns', None)\n"
   ]
  },
  {
   "cell_type": "code",
   "execution_count": 2,
   "metadata": {},
   "outputs": [
    {
     "data": {
      "application/javascript": [
       "IPython.OutputArea.prototype._should_scroll = function(lines) {\n",
       "    return false;\n",
       "}\n"
      ],
      "text/plain": [
       "<IPython.core.display.Javascript object>"
      ]
     },
     "metadata": {},
     "output_type": "display_data"
    }
   ],
   "source": [
    "%%javascript\n",
    "IPython.OutputArea.prototype._should_scroll = function(lines) {\n",
    "    return false;\n",
    "}"
   ]
  },
  {
   "cell_type": "code",
   "execution_count": 3,
   "metadata": {},
   "outputs": [
    {
     "ename": "FileNotFoundError",
     "evalue": "[Errno 2] No such file or directory: 'data/amazon-product-reviews-large.csv'",
     "output_type": "error",
     "traceback": [
      "\u001b[1;31m---------------------------------------------------------------------------\u001b[0m",
      "\u001b[1;31mFileNotFoundError\u001b[0m                         Traceback (most recent call last)",
      "\u001b[1;32m<ipython-input-3-3f1db3deeca5>\u001b[0m in \u001b[0;36m<module>\u001b[1;34m\u001b[0m\n\u001b[0;32m      1\u001b[0m \u001b[0mfile\u001b[0m \u001b[1;33m=\u001b[0m \u001b[1;34m'amazon-product-reviews-large.csv'\u001b[0m\u001b[1;33m\u001b[0m\u001b[1;33m\u001b[0m\u001b[0m\n\u001b[1;32m----> 2\u001b[1;33m \u001b[0mdf\u001b[0m \u001b[1;33m=\u001b[0m \u001b[0mpd\u001b[0m\u001b[1;33m.\u001b[0m\u001b[0mread_csv\u001b[0m\u001b[1;33m(\u001b[0m\u001b[0mos\u001b[0m\u001b[1;33m.\u001b[0m\u001b[0mpath\u001b[0m\u001b[1;33m.\u001b[0m\u001b[0mjoin\u001b[0m\u001b[1;33m(\u001b[0m\u001b[1;34m\"data/\"\u001b[0m\u001b[1;33m,\u001b[0m \u001b[0mfile\u001b[0m\u001b[1;33m)\u001b[0m\u001b[1;33m)\u001b[0m\u001b[1;33m\u001b[0m\u001b[1;33m\u001b[0m\u001b[0m\n\u001b[0m\u001b[0;32m      3\u001b[0m \u001b[0mdf\u001b[0m\u001b[1;33m.\u001b[0m\u001b[0mhead\u001b[0m\u001b[1;33m(\u001b[0m\u001b[1;33m)\u001b[0m\u001b[1;33m\u001b[0m\u001b[1;33m\u001b[0m\u001b[0m\n",
      "\u001b[1;32m~\\anaconda3\\lib\\site-packages\\pandas\\io\\parsers.py\u001b[0m in \u001b[0;36mread_csv\u001b[1;34m(filepath_or_buffer, sep, delimiter, header, names, index_col, usecols, squeeze, prefix, mangle_dupe_cols, dtype, engine, converters, true_values, false_values, skipinitialspace, skiprows, skipfooter, nrows, na_values, keep_default_na, na_filter, verbose, skip_blank_lines, parse_dates, infer_datetime_format, keep_date_col, date_parser, dayfirst, cache_dates, iterator, chunksize, compression, thousands, decimal, lineterminator, quotechar, quoting, doublequote, escapechar, comment, encoding, dialect, error_bad_lines, warn_bad_lines, delim_whitespace, low_memory, memory_map, float_precision, storage_options)\u001b[0m\n\u001b[0;32m    608\u001b[0m     \u001b[0mkwds\u001b[0m\u001b[1;33m.\u001b[0m\u001b[0mupdate\u001b[0m\u001b[1;33m(\u001b[0m\u001b[0mkwds_defaults\u001b[0m\u001b[1;33m)\u001b[0m\u001b[1;33m\u001b[0m\u001b[1;33m\u001b[0m\u001b[0m\n\u001b[0;32m    609\u001b[0m \u001b[1;33m\u001b[0m\u001b[0m\n\u001b[1;32m--> 610\u001b[1;33m     \u001b[1;32mreturn\u001b[0m \u001b[0m_read\u001b[0m\u001b[1;33m(\u001b[0m\u001b[0mfilepath_or_buffer\u001b[0m\u001b[1;33m,\u001b[0m \u001b[0mkwds\u001b[0m\u001b[1;33m)\u001b[0m\u001b[1;33m\u001b[0m\u001b[1;33m\u001b[0m\u001b[0m\n\u001b[0m\u001b[0;32m    611\u001b[0m \u001b[1;33m\u001b[0m\u001b[0m\n\u001b[0;32m    612\u001b[0m \u001b[1;33m\u001b[0m\u001b[0m\n",
      "\u001b[1;32m~\\anaconda3\\lib\\site-packages\\pandas\\io\\parsers.py\u001b[0m in \u001b[0;36m_read\u001b[1;34m(filepath_or_buffer, kwds)\u001b[0m\n\u001b[0;32m    460\u001b[0m \u001b[1;33m\u001b[0m\u001b[0m\n\u001b[0;32m    461\u001b[0m     \u001b[1;31m# Create the parser.\u001b[0m\u001b[1;33m\u001b[0m\u001b[1;33m\u001b[0m\u001b[1;33m\u001b[0m\u001b[0m\n\u001b[1;32m--> 462\u001b[1;33m     \u001b[0mparser\u001b[0m \u001b[1;33m=\u001b[0m \u001b[0mTextFileReader\u001b[0m\u001b[1;33m(\u001b[0m\u001b[0mfilepath_or_buffer\u001b[0m\u001b[1;33m,\u001b[0m \u001b[1;33m**\u001b[0m\u001b[0mkwds\u001b[0m\u001b[1;33m)\u001b[0m\u001b[1;33m\u001b[0m\u001b[1;33m\u001b[0m\u001b[0m\n\u001b[0m\u001b[0;32m    463\u001b[0m \u001b[1;33m\u001b[0m\u001b[0m\n\u001b[0;32m    464\u001b[0m     \u001b[1;32mif\u001b[0m \u001b[0mchunksize\u001b[0m \u001b[1;32mor\u001b[0m \u001b[0miterator\u001b[0m\u001b[1;33m:\u001b[0m\u001b[1;33m\u001b[0m\u001b[1;33m\u001b[0m\u001b[0m\n",
      "\u001b[1;32m~\\anaconda3\\lib\\site-packages\\pandas\\io\\parsers.py\u001b[0m in \u001b[0;36m__init__\u001b[1;34m(self, f, engine, **kwds)\u001b[0m\n\u001b[0;32m    817\u001b[0m             \u001b[0mself\u001b[0m\u001b[1;33m.\u001b[0m\u001b[0moptions\u001b[0m\u001b[1;33m[\u001b[0m\u001b[1;34m\"has_index_names\"\u001b[0m\u001b[1;33m]\u001b[0m \u001b[1;33m=\u001b[0m \u001b[0mkwds\u001b[0m\u001b[1;33m[\u001b[0m\u001b[1;34m\"has_index_names\"\u001b[0m\u001b[1;33m]\u001b[0m\u001b[1;33m\u001b[0m\u001b[1;33m\u001b[0m\u001b[0m\n\u001b[0;32m    818\u001b[0m \u001b[1;33m\u001b[0m\u001b[0m\n\u001b[1;32m--> 819\u001b[1;33m         \u001b[0mself\u001b[0m\u001b[1;33m.\u001b[0m\u001b[0m_engine\u001b[0m \u001b[1;33m=\u001b[0m \u001b[0mself\u001b[0m\u001b[1;33m.\u001b[0m\u001b[0m_make_engine\u001b[0m\u001b[1;33m(\u001b[0m\u001b[0mself\u001b[0m\u001b[1;33m.\u001b[0m\u001b[0mengine\u001b[0m\u001b[1;33m)\u001b[0m\u001b[1;33m\u001b[0m\u001b[1;33m\u001b[0m\u001b[0m\n\u001b[0m\u001b[0;32m    820\u001b[0m \u001b[1;33m\u001b[0m\u001b[0m\n\u001b[0;32m    821\u001b[0m     \u001b[1;32mdef\u001b[0m \u001b[0mclose\u001b[0m\u001b[1;33m(\u001b[0m\u001b[0mself\u001b[0m\u001b[1;33m)\u001b[0m\u001b[1;33m:\u001b[0m\u001b[1;33m\u001b[0m\u001b[1;33m\u001b[0m\u001b[0m\n",
      "\u001b[1;32m~\\anaconda3\\lib\\site-packages\\pandas\\io\\parsers.py\u001b[0m in \u001b[0;36m_make_engine\u001b[1;34m(self, engine)\u001b[0m\n\u001b[0;32m   1048\u001b[0m             )\n\u001b[0;32m   1049\u001b[0m         \u001b[1;31m# error: Too many arguments for \"ParserBase\"\u001b[0m\u001b[1;33m\u001b[0m\u001b[1;33m\u001b[0m\u001b[1;33m\u001b[0m\u001b[0m\n\u001b[1;32m-> 1050\u001b[1;33m         \u001b[1;32mreturn\u001b[0m \u001b[0mmapping\u001b[0m\u001b[1;33m[\u001b[0m\u001b[0mengine\u001b[0m\u001b[1;33m]\u001b[0m\u001b[1;33m(\u001b[0m\u001b[0mself\u001b[0m\u001b[1;33m.\u001b[0m\u001b[0mf\u001b[0m\u001b[1;33m,\u001b[0m \u001b[1;33m**\u001b[0m\u001b[0mself\u001b[0m\u001b[1;33m.\u001b[0m\u001b[0moptions\u001b[0m\u001b[1;33m)\u001b[0m  \u001b[1;31m# type: ignore[call-arg]\u001b[0m\u001b[1;33m\u001b[0m\u001b[1;33m\u001b[0m\u001b[0m\n\u001b[0m\u001b[0;32m   1051\u001b[0m \u001b[1;33m\u001b[0m\u001b[0m\n\u001b[0;32m   1052\u001b[0m     \u001b[1;32mdef\u001b[0m \u001b[0m_failover_to_python\u001b[0m\u001b[1;33m(\u001b[0m\u001b[0mself\u001b[0m\u001b[1;33m)\u001b[0m\u001b[1;33m:\u001b[0m\u001b[1;33m\u001b[0m\u001b[1;33m\u001b[0m\u001b[0m\n",
      "\u001b[1;32m~\\anaconda3\\lib\\site-packages\\pandas\\io\\parsers.py\u001b[0m in \u001b[0;36m__init__\u001b[1;34m(self, src, **kwds)\u001b[0m\n\u001b[0;32m   1865\u001b[0m \u001b[1;33m\u001b[0m\u001b[0m\n\u001b[0;32m   1866\u001b[0m         \u001b[1;31m# open handles\u001b[0m\u001b[1;33m\u001b[0m\u001b[1;33m\u001b[0m\u001b[1;33m\u001b[0m\u001b[0m\n\u001b[1;32m-> 1867\u001b[1;33m         \u001b[0mself\u001b[0m\u001b[1;33m.\u001b[0m\u001b[0m_open_handles\u001b[0m\u001b[1;33m(\u001b[0m\u001b[0msrc\u001b[0m\u001b[1;33m,\u001b[0m \u001b[0mkwds\u001b[0m\u001b[1;33m)\u001b[0m\u001b[1;33m\u001b[0m\u001b[1;33m\u001b[0m\u001b[0m\n\u001b[0m\u001b[0;32m   1868\u001b[0m         \u001b[1;32massert\u001b[0m \u001b[0mself\u001b[0m\u001b[1;33m.\u001b[0m\u001b[0mhandles\u001b[0m \u001b[1;32mis\u001b[0m \u001b[1;32mnot\u001b[0m \u001b[1;32mNone\u001b[0m\u001b[1;33m\u001b[0m\u001b[1;33m\u001b[0m\u001b[0m\n\u001b[0;32m   1869\u001b[0m         \u001b[1;32mfor\u001b[0m \u001b[0mkey\u001b[0m \u001b[1;32min\u001b[0m \u001b[1;33m(\u001b[0m\u001b[1;34m\"storage_options\"\u001b[0m\u001b[1;33m,\u001b[0m \u001b[1;34m\"encoding\"\u001b[0m\u001b[1;33m,\u001b[0m \u001b[1;34m\"memory_map\"\u001b[0m\u001b[1;33m,\u001b[0m \u001b[1;34m\"compression\"\u001b[0m\u001b[1;33m)\u001b[0m\u001b[1;33m:\u001b[0m\u001b[1;33m\u001b[0m\u001b[1;33m\u001b[0m\u001b[0m\n",
      "\u001b[1;32m~\\anaconda3\\lib\\site-packages\\pandas\\io\\parsers.py\u001b[0m in \u001b[0;36m_open_handles\u001b[1;34m(self, src, kwds)\u001b[0m\n\u001b[0;32m   1360\u001b[0m         \u001b[0mLet\u001b[0m \u001b[0mthe\u001b[0m \u001b[0mreaders\u001b[0m \u001b[0mopen\u001b[0m \u001b[0mIOHanldes\u001b[0m \u001b[0mafter\u001b[0m \u001b[0mthey\u001b[0m \u001b[0mare\u001b[0m \u001b[0mdone\u001b[0m \u001b[1;32mwith\u001b[0m \u001b[0mtheir\u001b[0m \u001b[0mpotential\u001b[0m \u001b[0mraises\u001b[0m\u001b[1;33m.\u001b[0m\u001b[1;33m\u001b[0m\u001b[1;33m\u001b[0m\u001b[0m\n\u001b[0;32m   1361\u001b[0m         \"\"\"\n\u001b[1;32m-> 1362\u001b[1;33m         self.handles = get_handle(\n\u001b[0m\u001b[0;32m   1363\u001b[0m             \u001b[0msrc\u001b[0m\u001b[1;33m,\u001b[0m\u001b[1;33m\u001b[0m\u001b[1;33m\u001b[0m\u001b[0m\n\u001b[0;32m   1364\u001b[0m             \u001b[1;34m\"r\"\u001b[0m\u001b[1;33m,\u001b[0m\u001b[1;33m\u001b[0m\u001b[1;33m\u001b[0m\u001b[0m\n",
      "\u001b[1;32m~\\anaconda3\\lib\\site-packages\\pandas\\io\\common.py\u001b[0m in \u001b[0;36mget_handle\u001b[1;34m(path_or_buf, mode, encoding, compression, memory_map, is_text, errors, storage_options)\u001b[0m\n\u001b[0;32m    640\u001b[0m                 \u001b[0merrors\u001b[0m \u001b[1;33m=\u001b[0m \u001b[1;34m\"replace\"\u001b[0m\u001b[1;33m\u001b[0m\u001b[1;33m\u001b[0m\u001b[0m\n\u001b[0;32m    641\u001b[0m             \u001b[1;31m# Encoding\u001b[0m\u001b[1;33m\u001b[0m\u001b[1;33m\u001b[0m\u001b[1;33m\u001b[0m\u001b[0m\n\u001b[1;32m--> 642\u001b[1;33m             handle = open(\n\u001b[0m\u001b[0;32m    643\u001b[0m                 \u001b[0mhandle\u001b[0m\u001b[1;33m,\u001b[0m\u001b[1;33m\u001b[0m\u001b[1;33m\u001b[0m\u001b[0m\n\u001b[0;32m    644\u001b[0m                 \u001b[0mioargs\u001b[0m\u001b[1;33m.\u001b[0m\u001b[0mmode\u001b[0m\u001b[1;33m,\u001b[0m\u001b[1;33m\u001b[0m\u001b[1;33m\u001b[0m\u001b[0m\n",
      "\u001b[1;31mFileNotFoundError\u001b[0m: [Errno 2] No such file or directory: 'data/amazon-product-reviews-large.csv'"
     ]
    }
   ],
   "source": [
    "file = 'amazon-product-reviews-large.csv'\n",
    "df = pd.read_csv(os.path.join(\"data/\", file))\n",
    "df.head()"
   ]
  },
  {
   "cell_type": "markdown",
   "metadata": {},
   "source": [
    "# Remove redundant columns"
   ]
  },
  {
   "cell_type": "code",
   "execution_count": 4,
   "metadata": {},
   "outputs": [
    {
     "data": {
      "text/plain": [
       "Index(['id', 'dateAdded', 'dateUpdated', 'name', 'asins', 'brand',\n",
       "       'categories', 'primaryCategories', 'imageURLs', 'keys', 'manufacturer',\n",
       "       'manufacturerNumber', 'reviews.date', 'reviews.dateSeen',\n",
       "       'reviews.didPurchase', 'reviews.doRecommend', 'reviews.id',\n",
       "       'reviews.numHelpful', 'reviews.rating', 'reviews.sourceURLs',\n",
       "       'reviews.text', 'reviews.title', 'reviews.username', 'sourceURLs'],\n",
       "      dtype='object')"
      ]
     },
     "execution_count": 4,
     "metadata": {},
     "output_type": "execute_result"
    }
   ],
   "source": [
    "df.columns"
   ]
  },
  {
   "cell_type": "code",
   "execution_count": 5,
   "metadata": {},
   "outputs": [],
   "source": [
    "cols = ['name', 'asins', 'categories', 'primaryCategories', 'imageURLs', 'manufacturer',\n",
    "       'reviews.date','reviews.doRecommend', 'reviews.numHelpful', 'reviews.rating', 'reviews.sourceURLs',\n",
    "       'reviews.text', 'reviews.title', 'reviews.username', 'sourceURLs']"
   ]
  },
  {
   "cell_type": "code",
   "execution_count": 6,
   "metadata": {},
   "outputs": [
    {
     "name": "stdout",
     "output_type": "stream",
     "text": [
      "<class 'pandas.core.frame.DataFrame'>\n",
      "RangeIndex: 28332 entries, 0 to 28331\n",
      "Data columns (total 15 columns):\n",
      " #   Column               Non-Null Count  Dtype  \n",
      "---  ------               --------------  -----  \n",
      " 0   name                 28332 non-null  object \n",
      " 1   asins                28332 non-null  object \n",
      " 2   categories           28332 non-null  object \n",
      " 3   primaryCategories    28332 non-null  object \n",
      " 4   imageURLs            28332 non-null  object \n",
      " 5   manufacturer         28332 non-null  object \n",
      " 6   reviews.date         28332 non-null  object \n",
      " 7   reviews.doRecommend  16086 non-null  object \n",
      " 8   reviews.numHelpful   16115 non-null  float64\n",
      " 9   reviews.rating       28332 non-null  int64  \n",
      " 10  reviews.sourceURLs   28332 non-null  object \n",
      " 11  reviews.text         28332 non-null  object \n",
      " 12  reviews.title        28332 non-null  object \n",
      " 13  reviews.username     28332 non-null  object \n",
      " 14  sourceURLs           28332 non-null  object \n",
      "dtypes: float64(1), int64(1), object(13)\n",
      "memory usage: 3.2+ MB\n"
     ]
    }
   ],
   "source": [
    "df= df[cols]\n",
    "df.info()"
   ]
  },
  {
   "cell_type": "code",
   "execution_count": 10,
   "metadata": {},
   "outputs": [],
   "source": [
    "df.fillna({'reviews.doRecommend': 'Unavailable', 'reviews.numHelpful': 'Unavailable'}, inplace=True)"
   ]
  },
  {
   "cell_type": "code",
   "execution_count": 11,
   "metadata": {
    "scrolled": true
   },
   "outputs": [
    {
     "name": "stdout",
     "output_type": "stream",
     "text": [
      "<class 'pandas.core.frame.DataFrame'>\n",
      "RangeIndex: 28332 entries, 0 to 28331\n",
      "Data columns (total 15 columns):\n",
      " #   Column               Non-Null Count  Dtype \n",
      "---  ------               --------------  ----- \n",
      " 0   name                 28332 non-null  object\n",
      " 1   asins                28332 non-null  object\n",
      " 2   categories           28332 non-null  object\n",
      " 3   primaryCategories    28332 non-null  object\n",
      " 4   imageURLs            28332 non-null  object\n",
      " 5   manufacturer         28332 non-null  object\n",
      " 6   reviews.date         28332 non-null  object\n",
      " 7   reviews.doRecommend  28332 non-null  object\n",
      " 8   reviews.numHelpful   28332 non-null  object\n",
      " 9   reviews.rating       28332 non-null  int64 \n",
      " 10  reviews.sourceURLs   28332 non-null  object\n",
      " 11  reviews.text         28332 non-null  object\n",
      " 12  reviews.title        28332 non-null  object\n",
      " 13  reviews.username     28332 non-null  object\n",
      " 14  sourceURLs           28332 non-null  object\n",
      "dtypes: int64(1), object(14)\n",
      "memory usage: 3.2+ MB\n"
     ]
    }
   ],
   "source": [
    "df.info()"
   ]
  },
  {
   "cell_type": "code",
   "execution_count": 15,
   "metadata": {},
   "outputs": [
    {
     "data": {
      "text/html": [
       "<div>\n",
       "<style scoped>\n",
       "    .dataframe tbody tr th:only-of-type {\n",
       "        vertical-align: middle;\n",
       "    }\n",
       "\n",
       "    .dataframe tbody tr th {\n",
       "        vertical-align: top;\n",
       "    }\n",
       "\n",
       "    .dataframe thead th {\n",
       "        text-align: right;\n",
       "    }\n",
       "</style>\n",
       "<table border=\"1\" class=\"dataframe\">\n",
       "  <thead>\n",
       "    <tr style=\"text-align: right;\">\n",
       "      <th></th>\n",
       "      <th>name</th>\n",
       "      <th>asins</th>\n",
       "      <th>categories</th>\n",
       "      <th>primaryCategories</th>\n",
       "      <th>imageURLs</th>\n",
       "      <th>manufacturer</th>\n",
       "      <th>reviews.date</th>\n",
       "      <th>reviews.doRecommend</th>\n",
       "      <th>reviews.numHelpful</th>\n",
       "      <th>reviews.rating</th>\n",
       "      <th>reviews.sourceURLs</th>\n",
       "      <th>reviews.text</th>\n",
       "      <th>reviews.title</th>\n",
       "      <th>reviews.username</th>\n",
       "      <th>sourceURLs</th>\n",
       "    </tr>\n",
       "  </thead>\n",
       "  <tbody>\n",
       "    <tr>\n",
       "      <th>0</th>\n",
       "      <td>AmazonBasics AAA Performance Alkaline Batterie...</td>\n",
       "      <td>B00QWO9P0O,B00LH3DMUO</td>\n",
       "      <td>AA,AAA,Health,Electronics,Health &amp; Household,C...</td>\n",
       "      <td>Health &amp; Beauty</td>\n",
       "      <td>https://images-na.ssl-images-amazon.com/images...</td>\n",
       "      <td>AmazonBasics</td>\n",
       "      <td>2017-03-02T00:00:00.000Z</td>\n",
       "      <td>Unavailable</td>\n",
       "      <td>Unavailable</td>\n",
       "      <td>3</td>\n",
       "      <td>https://www.amazon.com/product-reviews/B00QWO9...</td>\n",
       "      <td>I order 3 of them and one of the item is bad q...</td>\n",
       "      <td>... 3 of them and one of the item is bad quali...</td>\n",
       "      <td>Byger yang</td>\n",
       "      <td>https://www.barcodable.com/upc/841710106442,ht...</td>\n",
       "    </tr>\n",
       "    <tr>\n",
       "      <th>1</th>\n",
       "      <td>AmazonBasics AAA Performance Alkaline Batterie...</td>\n",
       "      <td>B00QWO9P0O,B00LH3DMUO</td>\n",
       "      <td>AA,AAA,Health,Electronics,Health &amp; Household,C...</td>\n",
       "      <td>Health &amp; Beauty</td>\n",
       "      <td>https://images-na.ssl-images-amazon.com/images...</td>\n",
       "      <td>AmazonBasics</td>\n",
       "      <td>2016-08-31T00:00:00.000Z</td>\n",
       "      <td>Unavailable</td>\n",
       "      <td>Unavailable</td>\n",
       "      <td>4</td>\n",
       "      <td>https://www.amazon.com/product-reviews/B00QWO9...</td>\n",
       "      <td>Bulk is always the less expensive way to go fo...</td>\n",
       "      <td>... always the less expensive way to go for pr...</td>\n",
       "      <td>ByMG</td>\n",
       "      <td>https://www.barcodable.com/upc/841710106442,ht...</td>\n",
       "    </tr>\n",
       "    <tr>\n",
       "      <th>2</th>\n",
       "      <td>AmazonBasics AAA Performance Alkaline Batterie...</td>\n",
       "      <td>B00QWO9P0O,B00LH3DMUO</td>\n",
       "      <td>AA,AAA,Health,Electronics,Health &amp; Household,C...</td>\n",
       "      <td>Health &amp; Beauty</td>\n",
       "      <td>https://images-na.ssl-images-amazon.com/images...</td>\n",
       "      <td>AmazonBasics</td>\n",
       "      <td>2016-12-06T00:00:00.000Z</td>\n",
       "      <td>Unavailable</td>\n",
       "      <td>Unavailable</td>\n",
       "      <td>5</td>\n",
       "      <td>https://www.amazon.com/product-reviews/B00QWO9...</td>\n",
       "      <td>Well they are not Duracell but for the price i...</td>\n",
       "      <td>... are not Duracell but for the price i am ha...</td>\n",
       "      <td>BySharon Lambert</td>\n",
       "      <td>https://www.barcodable.com/upc/841710106442,ht...</td>\n",
       "    </tr>\n",
       "    <tr>\n",
       "      <th>3</th>\n",
       "      <td>AmazonBasics AAA Performance Alkaline Batterie...</td>\n",
       "      <td>B00QWO9P0O,B00LH3DMUO</td>\n",
       "      <td>AA,AAA,Health,Electronics,Health &amp; Household,C...</td>\n",
       "      <td>Health &amp; Beauty</td>\n",
       "      <td>https://images-na.ssl-images-amazon.com/images...</td>\n",
       "      <td>AmazonBasics</td>\n",
       "      <td>2016-03-28T00:00:00.000Z</td>\n",
       "      <td>Unavailable</td>\n",
       "      <td>Unavailable</td>\n",
       "      <td>5</td>\n",
       "      <td>https://www.amazon.com/product-reviews/B00QWO9...</td>\n",
       "      <td>Seem to work as well as name brand batteries a...</td>\n",
       "      <td>... as well as name brand batteries at a much ...</td>\n",
       "      <td>Bymark sexson</td>\n",
       "      <td>https://www.barcodable.com/upc/841710106442,ht...</td>\n",
       "    </tr>\n",
       "    <tr>\n",
       "      <th>4</th>\n",
       "      <td>AmazonBasics AAA Performance Alkaline Batterie...</td>\n",
       "      <td>B00QWO9P0O,B00LH3DMUO</td>\n",
       "      <td>AA,AAA,Health,Electronics,Health &amp; Household,C...</td>\n",
       "      <td>Health &amp; Beauty</td>\n",
       "      <td>https://images-na.ssl-images-amazon.com/images...</td>\n",
       "      <td>AmazonBasics</td>\n",
       "      <td>2017-04-22T00:00:00.000Z</td>\n",
       "      <td>Unavailable</td>\n",
       "      <td>Unavailable</td>\n",
       "      <td>5</td>\n",
       "      <td>https://www.amazon.com/product-reviews/B00QWO9...</td>\n",
       "      <td>These batteries are very long lasting the pric...</td>\n",
       "      <td>... batteries are very long lasting the price ...</td>\n",
       "      <td>Bylinda</td>\n",
       "      <td>https://www.barcodable.com/upc/841710106442,ht...</td>\n",
       "    </tr>\n",
       "    <tr>\n",
       "      <th>...</th>\n",
       "      <td>...</td>\n",
       "      <td>...</td>\n",
       "      <td>...</td>\n",
       "      <td>...</td>\n",
       "      <td>...</td>\n",
       "      <td>...</td>\n",
       "      <td>...</td>\n",
       "      <td>...</td>\n",
       "      <td>...</td>\n",
       "      <td>...</td>\n",
       "      <td>...</td>\n",
       "      <td>...</td>\n",
       "      <td>...</td>\n",
       "      <td>...</td>\n",
       "      <td>...</td>\n",
       "    </tr>\n",
       "    <tr>\n",
       "      <th>28327</th>\n",
       "      <td>Fire HD 8 Tablet with Alexa, 8 HD Display, 16 ...</td>\n",
       "      <td>B018T075DC</td>\n",
       "      <td>Fire Tablets,Tablets,All Tablets,Amazon Tablet...</td>\n",
       "      <td>Electronics</td>\n",
       "      <td>https://www.upccodesearch.com/images/barcode/0...</td>\n",
       "      <td>Amazon</td>\n",
       "      <td>2016-12-07T00:00:00.000Z</td>\n",
       "      <td>True</td>\n",
       "      <td>0.0</td>\n",
       "      <td>5</td>\n",
       "      <td>http://reviews.bestbuy.com/3545/5620410/review...</td>\n",
       "      <td>I got 2 of these for my 8 yr old twins. My 11 ...</td>\n",
       "      <td>Xmas gift</td>\n",
       "      <td>Mom2twinsplus1</td>\n",
       "      <td>http://reviews.bestbuy.com/3545/5620410/review...</td>\n",
       "    </tr>\n",
       "    <tr>\n",
       "      <th>28328</th>\n",
       "      <td>Fire HD 8 Tablet with Alexa, 8 HD Display, 16 ...</td>\n",
       "      <td>B018T075DC</td>\n",
       "      <td>Fire Tablets,Tablets,All Tablets,Amazon Tablet...</td>\n",
       "      <td>Electronics</td>\n",
       "      <td>https://www.upccodesearch.com/images/barcode/0...</td>\n",
       "      <td>Amazon</td>\n",
       "      <td>2017-01-20T00:00:00.000Z</td>\n",
       "      <td>True</td>\n",
       "      <td>0.0</td>\n",
       "      <td>4</td>\n",
       "      <td>http://reviews.bestbuy.com/3545/5620410/review...</td>\n",
       "      <td>I bought this for my niece for a Christmas gif...</td>\n",
       "      <td>yes it is a great tablet.</td>\n",
       "      <td>fireman21</td>\n",
       "      <td>http://reviews.bestbuy.com/3545/5620410/review...</td>\n",
       "    </tr>\n",
       "    <tr>\n",
       "      <th>28329</th>\n",
       "      <td>Fire HD 8 Tablet with Alexa, 8 HD Display, 16 ...</td>\n",
       "      <td>B018T075DC</td>\n",
       "      <td>Fire Tablets,Tablets,All Tablets,Amazon Tablet...</td>\n",
       "      <td>Electronics</td>\n",
       "      <td>https://www.upccodesearch.com/images/barcode/0...</td>\n",
       "      <td>Amazon</td>\n",
       "      <td>2017-01-30T00:00:00.000Z</td>\n",
       "      <td>True</td>\n",
       "      <td>0.0</td>\n",
       "      <td>5</td>\n",
       "      <td>http://reviews.bestbuy.com/3545/5620410/review...</td>\n",
       "      <td>Very nice for light internet browsing, keeping...</td>\n",
       "      <td>You get a lot for the price!</td>\n",
       "      <td>suzannalicious</td>\n",
       "      <td>http://reviews.bestbuy.com/3545/5620410/review...</td>\n",
       "    </tr>\n",
       "    <tr>\n",
       "      <th>28330</th>\n",
       "      <td>Fire HD 8 Tablet with Alexa, 8 HD Display, 16 ...</td>\n",
       "      <td>B018T075DC</td>\n",
       "      <td>Fire Tablets,Tablets,All Tablets,Amazon Tablet...</td>\n",
       "      <td>Electronics</td>\n",
       "      <td>https://www.upccodesearch.com/images/barcode/0...</td>\n",
       "      <td>Amazon</td>\n",
       "      <td>2017-02-17T00:00:00.000Z</td>\n",
       "      <td>True</td>\n",
       "      <td>0.0</td>\n",
       "      <td>5</td>\n",
       "      <td>http://reviews.bestbuy.com/3545/5620410/review...</td>\n",
       "      <td>This Tablet does absolutely everything I want!...</td>\n",
       "      <td>You get the entire World for less than $100!</td>\n",
       "      <td>SandyJ</td>\n",
       "      <td>http://reviews.bestbuy.com/3545/5620410/review...</td>\n",
       "    </tr>\n",
       "    <tr>\n",
       "      <th>28331</th>\n",
       "      <td>Fire HD 8 Tablet with Alexa, 8 HD Display, 16 ...</td>\n",
       "      <td>B018T075DC</td>\n",
       "      <td>Fire Tablets,Tablets,All Tablets,Amazon Tablet...</td>\n",
       "      <td>Electronics</td>\n",
       "      <td>https://www.upccodesearch.com/images/barcode/0...</td>\n",
       "      <td>Amazon</td>\n",
       "      <td>2016-12-23T00:00:00.000Z</td>\n",
       "      <td>True</td>\n",
       "      <td>0.0</td>\n",
       "      <td>4</td>\n",
       "      <td>http://reviews.bestbuy.com/3545/5620410/review...</td>\n",
       "      <td>At ninety dollars, the expectionations are low...</td>\n",
       "      <td>You get what your paying for</td>\n",
       "      <td>Hung</td>\n",
       "      <td>http://reviews.bestbuy.com/3545/5620410/review...</td>\n",
       "    </tr>\n",
       "  </tbody>\n",
       "</table>\n",
       "<p>28332 rows × 15 columns</p>\n",
       "</div>"
      ],
      "text/plain": [
       "                                                    name  \\\n",
       "0      AmazonBasics AAA Performance Alkaline Batterie...   \n",
       "1      AmazonBasics AAA Performance Alkaline Batterie...   \n",
       "2      AmazonBasics AAA Performance Alkaline Batterie...   \n",
       "3      AmazonBasics AAA Performance Alkaline Batterie...   \n",
       "4      AmazonBasics AAA Performance Alkaline Batterie...   \n",
       "...                                                  ...   \n",
       "28327  Fire HD 8 Tablet with Alexa, 8 HD Display, 16 ...   \n",
       "28328  Fire HD 8 Tablet with Alexa, 8 HD Display, 16 ...   \n",
       "28329  Fire HD 8 Tablet with Alexa, 8 HD Display, 16 ...   \n",
       "28330  Fire HD 8 Tablet with Alexa, 8 HD Display, 16 ...   \n",
       "28331  Fire HD 8 Tablet with Alexa, 8 HD Display, 16 ...   \n",
       "\n",
       "                       asins  \\\n",
       "0      B00QWO9P0O,B00LH3DMUO   \n",
       "1      B00QWO9P0O,B00LH3DMUO   \n",
       "2      B00QWO9P0O,B00LH3DMUO   \n",
       "3      B00QWO9P0O,B00LH3DMUO   \n",
       "4      B00QWO9P0O,B00LH3DMUO   \n",
       "...                      ...   \n",
       "28327             B018T075DC   \n",
       "28328             B018T075DC   \n",
       "28329             B018T075DC   \n",
       "28330             B018T075DC   \n",
       "28331             B018T075DC   \n",
       "\n",
       "                                              categories primaryCategories  \\\n",
       "0      AA,AAA,Health,Electronics,Health & Household,C...   Health & Beauty   \n",
       "1      AA,AAA,Health,Electronics,Health & Household,C...   Health & Beauty   \n",
       "2      AA,AAA,Health,Electronics,Health & Household,C...   Health & Beauty   \n",
       "3      AA,AAA,Health,Electronics,Health & Household,C...   Health & Beauty   \n",
       "4      AA,AAA,Health,Electronics,Health & Household,C...   Health & Beauty   \n",
       "...                                                  ...               ...   \n",
       "28327  Fire Tablets,Tablets,All Tablets,Amazon Tablet...       Electronics   \n",
       "28328  Fire Tablets,Tablets,All Tablets,Amazon Tablet...       Electronics   \n",
       "28329  Fire Tablets,Tablets,All Tablets,Amazon Tablet...       Electronics   \n",
       "28330  Fire Tablets,Tablets,All Tablets,Amazon Tablet...       Electronics   \n",
       "28331  Fire Tablets,Tablets,All Tablets,Amazon Tablet...       Electronics   \n",
       "\n",
       "                                               imageURLs  manufacturer  \\\n",
       "0      https://images-na.ssl-images-amazon.com/images...  AmazonBasics   \n",
       "1      https://images-na.ssl-images-amazon.com/images...  AmazonBasics   \n",
       "2      https://images-na.ssl-images-amazon.com/images...  AmazonBasics   \n",
       "3      https://images-na.ssl-images-amazon.com/images...  AmazonBasics   \n",
       "4      https://images-na.ssl-images-amazon.com/images...  AmazonBasics   \n",
       "...                                                  ...           ...   \n",
       "28327  https://www.upccodesearch.com/images/barcode/0...        Amazon   \n",
       "28328  https://www.upccodesearch.com/images/barcode/0...        Amazon   \n",
       "28329  https://www.upccodesearch.com/images/barcode/0...        Amazon   \n",
       "28330  https://www.upccodesearch.com/images/barcode/0...        Amazon   \n",
       "28331  https://www.upccodesearch.com/images/barcode/0...        Amazon   \n",
       "\n",
       "                   reviews.date reviews.doRecommend reviews.numHelpful  \\\n",
       "0      2017-03-02T00:00:00.000Z         Unavailable        Unavailable   \n",
       "1      2016-08-31T00:00:00.000Z         Unavailable        Unavailable   \n",
       "2      2016-12-06T00:00:00.000Z         Unavailable        Unavailable   \n",
       "3      2016-03-28T00:00:00.000Z         Unavailable        Unavailable   \n",
       "4      2017-04-22T00:00:00.000Z         Unavailable        Unavailable   \n",
       "...                         ...                 ...                ...   \n",
       "28327  2016-12-07T00:00:00.000Z                True                0.0   \n",
       "28328  2017-01-20T00:00:00.000Z                True                0.0   \n",
       "28329  2017-01-30T00:00:00.000Z                True                0.0   \n",
       "28330  2017-02-17T00:00:00.000Z                True                0.0   \n",
       "28331  2016-12-23T00:00:00.000Z                True                0.0   \n",
       "\n",
       "       reviews.rating                                 reviews.sourceURLs  \\\n",
       "0                   3  https://www.amazon.com/product-reviews/B00QWO9...   \n",
       "1                   4  https://www.amazon.com/product-reviews/B00QWO9...   \n",
       "2                   5  https://www.amazon.com/product-reviews/B00QWO9...   \n",
       "3                   5  https://www.amazon.com/product-reviews/B00QWO9...   \n",
       "4                   5  https://www.amazon.com/product-reviews/B00QWO9...   \n",
       "...               ...                                                ...   \n",
       "28327               5  http://reviews.bestbuy.com/3545/5620410/review...   \n",
       "28328               4  http://reviews.bestbuy.com/3545/5620410/review...   \n",
       "28329               5  http://reviews.bestbuy.com/3545/5620410/review...   \n",
       "28330               5  http://reviews.bestbuy.com/3545/5620410/review...   \n",
       "28331               4  http://reviews.bestbuy.com/3545/5620410/review...   \n",
       "\n",
       "                                            reviews.text  \\\n",
       "0      I order 3 of them and one of the item is bad q...   \n",
       "1      Bulk is always the less expensive way to go fo...   \n",
       "2      Well they are not Duracell but for the price i...   \n",
       "3      Seem to work as well as name brand batteries a...   \n",
       "4      These batteries are very long lasting the pric...   \n",
       "...                                                  ...   \n",
       "28327  I got 2 of these for my 8 yr old twins. My 11 ...   \n",
       "28328  I bought this for my niece for a Christmas gif...   \n",
       "28329  Very nice for light internet browsing, keeping...   \n",
       "28330  This Tablet does absolutely everything I want!...   \n",
       "28331  At ninety dollars, the expectionations are low...   \n",
       "\n",
       "                                           reviews.title  reviews.username  \\\n",
       "0      ... 3 of them and one of the item is bad quali...        Byger yang   \n",
       "1      ... always the less expensive way to go for pr...              ByMG   \n",
       "2      ... are not Duracell but for the price i am ha...  BySharon Lambert   \n",
       "3      ... as well as name brand batteries at a much ...     Bymark sexson   \n",
       "4      ... batteries are very long lasting the price ...           Bylinda   \n",
       "...                                                  ...               ...   \n",
       "28327                                          Xmas gift    Mom2twinsplus1   \n",
       "28328                          yes it is a great tablet.         fireman21   \n",
       "28329                       You get a lot for the price!    suzannalicious   \n",
       "28330       You get the entire World for less than $100!            SandyJ   \n",
       "28331                       You get what your paying for              Hung   \n",
       "\n",
       "                                              sourceURLs  \n",
       "0      https://www.barcodable.com/upc/841710106442,ht...  \n",
       "1      https://www.barcodable.com/upc/841710106442,ht...  \n",
       "2      https://www.barcodable.com/upc/841710106442,ht...  \n",
       "3      https://www.barcodable.com/upc/841710106442,ht...  \n",
       "4      https://www.barcodable.com/upc/841710106442,ht...  \n",
       "...                                                  ...  \n",
       "28327  http://reviews.bestbuy.com/3545/5620410/review...  \n",
       "28328  http://reviews.bestbuy.com/3545/5620410/review...  \n",
       "28329  http://reviews.bestbuy.com/3545/5620410/review...  \n",
       "28330  http://reviews.bestbuy.com/3545/5620410/review...  \n",
       "28331  http://reviews.bestbuy.com/3545/5620410/review...  \n",
       "\n",
       "[28332 rows x 15 columns]"
      ]
     },
     "execution_count": 15,
     "metadata": {},
     "output_type": "execute_result"
    }
   ],
   "source": [
    "df"
   ]
  },
  {
   "cell_type": "code",
   "execution_count": 16,
   "metadata": {},
   "outputs": [
    {
     "data": {
      "text/plain": [
       "65"
      ]
     },
     "execution_count": 16,
     "metadata": {},
     "output_type": "execute_result"
    }
   ],
   "source": [
    "#there are 65 unique products being reviewed\n",
    "len(df.name.unique())"
   ]
  },
  {
   "cell_type": "code",
   "execution_count": 47,
   "metadata": {},
   "outputs": [
    {
     "data": {
      "text/plain": [
       "65"
      ]
     },
     "execution_count": 47,
     "metadata": {},
     "output_type": "execute_result"
    }
   ],
   "source": [
    "#product IDs must be 65 corr to product names\n",
    "len(df.asins.unique())"
   ]
  },
  {
   "cell_type": "code",
   "execution_count": 48,
   "metadata": {},
   "outputs": [
    {
     "data": {
      "text/plain": [
       "16269"
      ]
     },
     "execution_count": 48,
     "metadata": {},
     "output_type": "execute_result"
    }
   ],
   "source": [
    "#there are 16269 unique reviewers \n",
    "len(df['reviews.username'].unique())"
   ]
  },
  {
   "cell_type": "code",
   "execution_count": 50,
   "metadata": {},
   "outputs": [
    {
     "data": {
      "text/plain": [
       "60"
      ]
     },
     "execution_count": 50,
     "metadata": {},
     "output_type": "execute_result"
    }
   ],
   "source": [
    "#60 unique categories\n",
    "len(df['categories'].unique())"
   ]
  },
  {
   "cell_type": "code",
   "execution_count": 17,
   "metadata": {},
   "outputs": [
    {
     "name": "stdout",
     "output_type": "stream",
     "text": [
      "Collecting Faker\n",
      "  Downloading Faker-13.3.2-py3-none-any.whl (1.5 MB)\n",
      "Requirement already satisfied: python-dateutil>=2.4 in c:\\users\\ketak\\anaconda3\\lib\\site-packages (from Faker) (2.8.1)\n",
      "Requirement already satisfied: six>=1.5 in c:\\users\\ketak\\anaconda3\\lib\\site-packages (from python-dateutil>=2.4->Faker) (1.15.0)\n",
      "Installing collected packages: Faker\n",
      "Successfully installed Faker-13.3.2\n"
     ]
    },
    {
     "name": "stderr",
     "output_type": "stream",
     "text": [
      "WARNING: You are using pip version 20.3.3; however, version 22.0.4 is available.\n",
      "You should consider upgrading via the 'c:\\users\\ketak\\anaconda3\\python.exe -m pip install --upgrade pip' command.\n"
     ]
    }
   ],
   "source": [
    "!pip install Faker"
   ]
  },
  {
   "cell_type": "code",
   "execution_count": 4,
   "metadata": {},
   "outputs": [],
   "source": [
    "from faker import Faker\n",
    "fake = Faker()"
   ]
  },
  {
   "cell_type": "code",
   "execution_count": 5,
   "metadata": {},
   "outputs": [],
   "source": [
    "Faker.seed(0)\n",
    "location = []\n",
    "for _ in range(28332):\n",
    "    location.append(fake.local_latlng())"
   ]
  },
  {
   "cell_type": "code",
   "execution_count": 6,
   "metadata": {},
   "outputs": [
    {
     "name": "stdout",
     "output_type": "stream",
     "text": [
      "26.826999\n",
      "45.792650\n",
      "-158.265114\n",
      "-40.995129\n",
      "94.488524\n"
     ]
    }
   ],
   "source": [
    "Faker.seed(0)\n",
    "for _ in range(5):\n",
    "    print(fake.longitude())"
   ]
  },
  {
   "cell_type": "code",
   "execution_count": 46,
   "metadata": {},
   "outputs": [
    {
     "data": {
      "text/plain": [
       "True"
      ]
     },
     "execution_count": 46,
     "metadata": {},
     "output_type": "execute_result"
    }
   ],
   "source": [
    "len(location) == len(df)"
   ]
  },
  {
   "cell_type": "code",
   "execution_count": 60,
   "metadata": {},
   "outputs": [
    {
     "data": {
      "text/plain": [
       "[('40.72371', '-73.95097', 'Greenpoint', 'US', 'America/New_York'),\n",
       " ('41.48199', '-81.79819', 'Lakewood', 'US', 'America/New_York'),\n",
       " ('30.17746', '-81.38758', 'Palm Valley', 'US', 'America/New_York'),\n",
       " ('41.72059', '-87.70172', 'Evergreen Park', 'US', 'America/Chicago'),\n",
       " ('33.93113', '-117.54866', 'Norco', 'US', 'America/Los_Angeles'),\n",
       " ('33.03699', '-117.29198', 'Encinitas', 'US', 'America/Los_Angeles'),\n",
       " ('41.0051', '-73.78458', 'Scarsdale', 'US', 'America/New_York'),\n",
       " ('42.4251', '-71.06616', 'Malden', 'US', 'America/New_York'),\n",
       " ('34.09668', '-117.71978', 'Claremont', 'US', 'America/Los_Angeles'),\n",
       " ('40.72816', '-74.07764', 'Jersey City', 'US', 'America/New_York')]"
      ]
     },
     "execution_count": 60,
     "metadata": {},
     "output_type": "execute_result"
    }
   ],
   "source": [
    "location[:10]"
   ]
  },
  {
   "cell_type": "code",
   "execution_count": 66,
   "metadata": {},
   "outputs": [
    {
     "data": {
      "text/plain": [
       "('Greenpoint', 'US', 'America/New_York')"
      ]
     },
     "execution_count": 66,
     "metadata": {},
     "output_type": "execute_result"
    }
   ],
   "source": [
    "location[0][2:]"
   ]
  },
  {
   "cell_type": "code",
   "execution_count": 68,
   "metadata": {},
   "outputs": [],
   "source": [
    "latitude, longitude, place = [], [], []"
   ]
  },
  {
   "cell_type": "code",
   "execution_count": 69,
   "metadata": {},
   "outputs": [],
   "source": [
    "for i in range(len(location)):\n",
    "    latitude.append(location[i][0])\n",
    "    longitude.append(location[i][1])\n",
    "    place.append(location[0][2:])"
   ]
  },
  {
   "cell_type": "code",
   "execution_count": 70,
   "metadata": {},
   "outputs": [
    {
     "name": "stdout",
     "output_type": "stream",
     "text": [
      "28332 28332 28332\n"
     ]
    }
   ],
   "source": [
    "print(len(latitude), len(longitude), len(place))"
   ]
  },
  {
   "cell_type": "code",
   "execution_count": 71,
   "metadata": {},
   "outputs": [],
   "source": [
    "#df['latitude'] = np.array(latitude)"
   ]
  },
  {
   "cell_type": "code",
   "execution_count": 73,
   "metadata": {},
   "outputs": [],
   "source": [
    "#df['longitude'] = np.array(longitude)"
   ]
  },
  {
   "cell_type": "code",
   "execution_count": null,
   "metadata": {},
   "outputs": [],
   "source": [
    "#df['location'] = place"
   ]
  },
  {
   "cell_type": "code",
   "execution_count": 79,
   "metadata": {},
   "outputs": [
    {
     "name": "stdout",
     "output_type": "stream",
     "text": [
      "<class 'pandas.core.frame.DataFrame'>\n",
      "RangeIndex: 28332 entries, 0 to 28331\n",
      "Data columns (total 18 columns):\n",
      " #   Column               Non-Null Count  Dtype \n",
      "---  ------               --------------  ----- \n",
      " 0   name                 28332 non-null  object\n",
      " 1   asins                28332 non-null  object\n",
      " 2   categories           28332 non-null  object\n",
      " 3   primaryCategories    28332 non-null  object\n",
      " 4   imageURLs            28332 non-null  object\n",
      " 5   manufacturer         28332 non-null  object\n",
      " 6   reviews.date         28332 non-null  object\n",
      " 7   reviews.doRecommend  28332 non-null  object\n",
      " 8   reviews.numHelpful   28332 non-null  object\n",
      " 9   reviews.rating       28332 non-null  int64 \n",
      " 10  reviews.sourceURLs   28332 non-null  object\n",
      " 11  reviews.text         28332 non-null  object\n",
      " 12  reviews.title        28332 non-null  object\n",
      " 13  reviews.username     28332 non-null  object\n",
      " 14  sourceURLs           28332 non-null  object\n",
      " 15  latitude             28332 non-null  object\n",
      " 16  longitude            28332 non-null  object\n",
      " 17  location             28332 non-null  object\n",
      "dtypes: int64(1), object(17)\n",
      "memory usage: 3.9+ MB\n"
     ]
    }
   ],
   "source": [
    "df.info()"
   ]
  },
  {
   "cell_type": "code",
   "execution_count": 80,
   "metadata": {},
   "outputs": [
    {
     "data": {
      "text/html": [
       "<div>\n",
       "<style scoped>\n",
       "    .dataframe tbody tr th:only-of-type {\n",
       "        vertical-align: middle;\n",
       "    }\n",
       "\n",
       "    .dataframe tbody tr th {\n",
       "        vertical-align: top;\n",
       "    }\n",
       "\n",
       "    .dataframe thead th {\n",
       "        text-align: right;\n",
       "    }\n",
       "</style>\n",
       "<table border=\"1\" class=\"dataframe\">\n",
       "  <thead>\n",
       "    <tr style=\"text-align: right;\">\n",
       "      <th></th>\n",
       "      <th>name</th>\n",
       "      <th>asins</th>\n",
       "      <th>categories</th>\n",
       "      <th>primaryCategories</th>\n",
       "      <th>imageURLs</th>\n",
       "      <th>manufacturer</th>\n",
       "      <th>reviews.date</th>\n",
       "      <th>reviews.doRecommend</th>\n",
       "      <th>reviews.numHelpful</th>\n",
       "      <th>reviews.rating</th>\n",
       "      <th>reviews.sourceURLs</th>\n",
       "      <th>reviews.text</th>\n",
       "      <th>reviews.title</th>\n",
       "      <th>reviews.username</th>\n",
       "      <th>sourceURLs</th>\n",
       "      <th>latitude</th>\n",
       "      <th>longitude</th>\n",
       "      <th>location</th>\n",
       "    </tr>\n",
       "  </thead>\n",
       "  <tbody>\n",
       "    <tr>\n",
       "      <th>0</th>\n",
       "      <td>AmazonBasics AAA Performance Alkaline Batterie...</td>\n",
       "      <td>B00QWO9P0O,B00LH3DMUO</td>\n",
       "      <td>AA,AAA,Health,Electronics,Health &amp; Household,C...</td>\n",
       "      <td>Health &amp; Beauty</td>\n",
       "      <td>https://images-na.ssl-images-amazon.com/images...</td>\n",
       "      <td>AmazonBasics</td>\n",
       "      <td>2017-03-02T00:00:00.000Z</td>\n",
       "      <td>Unavailable</td>\n",
       "      <td>Unavailable</td>\n",
       "      <td>3</td>\n",
       "      <td>https://www.amazon.com/product-reviews/B00QWO9...</td>\n",
       "      <td>I order 3 of them and one of the item is bad q...</td>\n",
       "      <td>... 3 of them and one of the item is bad quali...</td>\n",
       "      <td>Byger yang</td>\n",
       "      <td>https://www.barcodable.com/upc/841710106442,ht...</td>\n",
       "      <td>40.72371</td>\n",
       "      <td>-73.95097</td>\n",
       "      <td>(Greenpoint, US, America/New_York)</td>\n",
       "    </tr>\n",
       "    <tr>\n",
       "      <th>1</th>\n",
       "      <td>AmazonBasics AAA Performance Alkaline Batterie...</td>\n",
       "      <td>B00QWO9P0O,B00LH3DMUO</td>\n",
       "      <td>AA,AAA,Health,Electronics,Health &amp; Household,C...</td>\n",
       "      <td>Health &amp; Beauty</td>\n",
       "      <td>https://images-na.ssl-images-amazon.com/images...</td>\n",
       "      <td>AmazonBasics</td>\n",
       "      <td>2016-08-31T00:00:00.000Z</td>\n",
       "      <td>Unavailable</td>\n",
       "      <td>Unavailable</td>\n",
       "      <td>4</td>\n",
       "      <td>https://www.amazon.com/product-reviews/B00QWO9...</td>\n",
       "      <td>Bulk is always the less expensive way to go fo...</td>\n",
       "      <td>... always the less expensive way to go for pr...</td>\n",
       "      <td>ByMG</td>\n",
       "      <td>https://www.barcodable.com/upc/841710106442,ht...</td>\n",
       "      <td>41.48199</td>\n",
       "      <td>-81.79819</td>\n",
       "      <td>(Greenpoint, US, America/New_York)</td>\n",
       "    </tr>\n",
       "    <tr>\n",
       "      <th>2</th>\n",
       "      <td>AmazonBasics AAA Performance Alkaline Batterie...</td>\n",
       "      <td>B00QWO9P0O,B00LH3DMUO</td>\n",
       "      <td>AA,AAA,Health,Electronics,Health &amp; Household,C...</td>\n",
       "      <td>Health &amp; Beauty</td>\n",
       "      <td>https://images-na.ssl-images-amazon.com/images...</td>\n",
       "      <td>AmazonBasics</td>\n",
       "      <td>2016-12-06T00:00:00.000Z</td>\n",
       "      <td>Unavailable</td>\n",
       "      <td>Unavailable</td>\n",
       "      <td>5</td>\n",
       "      <td>https://www.amazon.com/product-reviews/B00QWO9...</td>\n",
       "      <td>Well they are not Duracell but for the price i...</td>\n",
       "      <td>... are not Duracell but for the price i am ha...</td>\n",
       "      <td>BySharon Lambert</td>\n",
       "      <td>https://www.barcodable.com/upc/841710106442,ht...</td>\n",
       "      <td>30.17746</td>\n",
       "      <td>-81.38758</td>\n",
       "      <td>(Greenpoint, US, America/New_York)</td>\n",
       "    </tr>\n",
       "    <tr>\n",
       "      <th>3</th>\n",
       "      <td>AmazonBasics AAA Performance Alkaline Batterie...</td>\n",
       "      <td>B00QWO9P0O,B00LH3DMUO</td>\n",
       "      <td>AA,AAA,Health,Electronics,Health &amp; Household,C...</td>\n",
       "      <td>Health &amp; Beauty</td>\n",
       "      <td>https://images-na.ssl-images-amazon.com/images...</td>\n",
       "      <td>AmazonBasics</td>\n",
       "      <td>2016-03-28T00:00:00.000Z</td>\n",
       "      <td>Unavailable</td>\n",
       "      <td>Unavailable</td>\n",
       "      <td>5</td>\n",
       "      <td>https://www.amazon.com/product-reviews/B00QWO9...</td>\n",
       "      <td>Seem to work as well as name brand batteries a...</td>\n",
       "      <td>... as well as name brand batteries at a much ...</td>\n",
       "      <td>Bymark sexson</td>\n",
       "      <td>https://www.barcodable.com/upc/841710106442,ht...</td>\n",
       "      <td>41.72059</td>\n",
       "      <td>-87.70172</td>\n",
       "      <td>(Greenpoint, US, America/New_York)</td>\n",
       "    </tr>\n",
       "    <tr>\n",
       "      <th>4</th>\n",
       "      <td>AmazonBasics AAA Performance Alkaline Batterie...</td>\n",
       "      <td>B00QWO9P0O,B00LH3DMUO</td>\n",
       "      <td>AA,AAA,Health,Electronics,Health &amp; Household,C...</td>\n",
       "      <td>Health &amp; Beauty</td>\n",
       "      <td>https://images-na.ssl-images-amazon.com/images...</td>\n",
       "      <td>AmazonBasics</td>\n",
       "      <td>2017-04-22T00:00:00.000Z</td>\n",
       "      <td>Unavailable</td>\n",
       "      <td>Unavailable</td>\n",
       "      <td>5</td>\n",
       "      <td>https://www.amazon.com/product-reviews/B00QWO9...</td>\n",
       "      <td>These batteries are very long lasting the pric...</td>\n",
       "      <td>... batteries are very long lasting the price ...</td>\n",
       "      <td>Bylinda</td>\n",
       "      <td>https://www.barcodable.com/upc/841710106442,ht...</td>\n",
       "      <td>33.93113</td>\n",
       "      <td>-117.54866</td>\n",
       "      <td>(Greenpoint, US, America/New_York)</td>\n",
       "    </tr>\n",
       "    <tr>\n",
       "      <th>...</th>\n",
       "      <td>...</td>\n",
       "      <td>...</td>\n",
       "      <td>...</td>\n",
       "      <td>...</td>\n",
       "      <td>...</td>\n",
       "      <td>...</td>\n",
       "      <td>...</td>\n",
       "      <td>...</td>\n",
       "      <td>...</td>\n",
       "      <td>...</td>\n",
       "      <td>...</td>\n",
       "      <td>...</td>\n",
       "      <td>...</td>\n",
       "      <td>...</td>\n",
       "      <td>...</td>\n",
       "      <td>...</td>\n",
       "      <td>...</td>\n",
       "      <td>...</td>\n",
       "    </tr>\n",
       "    <tr>\n",
       "      <th>28327</th>\n",
       "      <td>Fire HD 8 Tablet with Alexa, 8 HD Display, 16 ...</td>\n",
       "      <td>B018T075DC</td>\n",
       "      <td>Fire Tablets,Tablets,All Tablets,Amazon Tablet...</td>\n",
       "      <td>Electronics</td>\n",
       "      <td>https://www.upccodesearch.com/images/barcode/0...</td>\n",
       "      <td>Amazon</td>\n",
       "      <td>2016-12-07T00:00:00.000Z</td>\n",
       "      <td>True</td>\n",
       "      <td>0.0</td>\n",
       "      <td>5</td>\n",
       "      <td>http://reviews.bestbuy.com/3545/5620410/review...</td>\n",
       "      <td>I got 2 of these for my 8 yr old twins. My 11 ...</td>\n",
       "      <td>Xmas gift</td>\n",
       "      <td>Mom2twinsplus1</td>\n",
       "      <td>http://reviews.bestbuy.com/3545/5620410/review...</td>\n",
       "      <td>41.0051</td>\n",
       "      <td>-73.78458</td>\n",
       "      <td>(Greenpoint, US, America/New_York)</td>\n",
       "    </tr>\n",
       "    <tr>\n",
       "      <th>28328</th>\n",
       "      <td>Fire HD 8 Tablet with Alexa, 8 HD Display, 16 ...</td>\n",
       "      <td>B018T075DC</td>\n",
       "      <td>Fire Tablets,Tablets,All Tablets,Amazon Tablet...</td>\n",
       "      <td>Electronics</td>\n",
       "      <td>https://www.upccodesearch.com/images/barcode/0...</td>\n",
       "      <td>Amazon</td>\n",
       "      <td>2017-01-20T00:00:00.000Z</td>\n",
       "      <td>True</td>\n",
       "      <td>0.0</td>\n",
       "      <td>4</td>\n",
       "      <td>http://reviews.bestbuy.com/3545/5620410/review...</td>\n",
       "      <td>I bought this for my niece for a Christmas gif...</td>\n",
       "      <td>yes it is a great tablet.</td>\n",
       "      <td>fireman21</td>\n",
       "      <td>http://reviews.bestbuy.com/3545/5620410/review...</td>\n",
       "      <td>40.65995</td>\n",
       "      <td>-111.99633</td>\n",
       "      <td>(Greenpoint, US, America/New_York)</td>\n",
       "    </tr>\n",
       "    <tr>\n",
       "      <th>28329</th>\n",
       "      <td>Fire HD 8 Tablet with Alexa, 8 HD Display, 16 ...</td>\n",
       "      <td>B018T075DC</td>\n",
       "      <td>Fire Tablets,Tablets,All Tablets,Amazon Tablet...</td>\n",
       "      <td>Electronics</td>\n",
       "      <td>https://www.upccodesearch.com/images/barcode/0...</td>\n",
       "      <td>Amazon</td>\n",
       "      <td>2017-01-30T00:00:00.000Z</td>\n",
       "      <td>True</td>\n",
       "      <td>0.0</td>\n",
       "      <td>5</td>\n",
       "      <td>http://reviews.bestbuy.com/3545/5620410/review...</td>\n",
       "      <td>Very nice for light internet browsing, keeping...</td>\n",
       "      <td>You get a lot for the price!</td>\n",
       "      <td>suzannalicious</td>\n",
       "      <td>http://reviews.bestbuy.com/3545/5620410/review...</td>\n",
       "      <td>35.61452</td>\n",
       "      <td>-88.81395</td>\n",
       "      <td>(Greenpoint, US, America/New_York)</td>\n",
       "    </tr>\n",
       "    <tr>\n",
       "      <th>28330</th>\n",
       "      <td>Fire HD 8 Tablet with Alexa, 8 HD Display, 16 ...</td>\n",
       "      <td>B018T075DC</td>\n",
       "      <td>Fire Tablets,Tablets,All Tablets,Amazon Tablet...</td>\n",
       "      <td>Electronics</td>\n",
       "      <td>https://www.upccodesearch.com/images/barcode/0...</td>\n",
       "      <td>Amazon</td>\n",
       "      <td>2017-02-17T00:00:00.000Z</td>\n",
       "      <td>True</td>\n",
       "      <td>0.0</td>\n",
       "      <td>5</td>\n",
       "      <td>http://reviews.bestbuy.com/3545/5620410/review...</td>\n",
       "      <td>This Tablet does absolutely everything I want!...</td>\n",
       "      <td>You get the entire World for less than $100!</td>\n",
       "      <td>SandyJ</td>\n",
       "      <td>http://reviews.bestbuy.com/3545/5620410/review...</td>\n",
       "      <td>40.24537</td>\n",
       "      <td>-75.64963</td>\n",
       "      <td>(Greenpoint, US, America/New_York)</td>\n",
       "    </tr>\n",
       "    <tr>\n",
       "      <th>28331</th>\n",
       "      <td>Fire HD 8 Tablet with Alexa, 8 HD Display, 16 ...</td>\n",
       "      <td>B018T075DC</td>\n",
       "      <td>Fire Tablets,Tablets,All Tablets,Amazon Tablet...</td>\n",
       "      <td>Electronics</td>\n",
       "      <td>https://www.upccodesearch.com/images/barcode/0...</td>\n",
       "      <td>Amazon</td>\n",
       "      <td>2016-12-23T00:00:00.000Z</td>\n",
       "      <td>True</td>\n",
       "      <td>0.0</td>\n",
       "      <td>4</td>\n",
       "      <td>http://reviews.bestbuy.com/3545/5620410/review...</td>\n",
       "      <td>At ninety dollars, the expectionations are low...</td>\n",
       "      <td>You get what your paying for</td>\n",
       "      <td>Hung</td>\n",
       "      <td>http://reviews.bestbuy.com/3545/5620410/review...</td>\n",
       "      <td>40.67705</td>\n",
       "      <td>-73.89125</td>\n",
       "      <td>(Greenpoint, US, America/New_York)</td>\n",
       "    </tr>\n",
       "  </tbody>\n",
       "</table>\n",
       "<p>28332 rows × 18 columns</p>\n",
       "</div>"
      ],
      "text/plain": [
       "                                                    name  \\\n",
       "0      AmazonBasics AAA Performance Alkaline Batterie...   \n",
       "1      AmazonBasics AAA Performance Alkaline Batterie...   \n",
       "2      AmazonBasics AAA Performance Alkaline Batterie...   \n",
       "3      AmazonBasics AAA Performance Alkaline Batterie...   \n",
       "4      AmazonBasics AAA Performance Alkaline Batterie...   \n",
       "...                                                  ...   \n",
       "28327  Fire HD 8 Tablet with Alexa, 8 HD Display, 16 ...   \n",
       "28328  Fire HD 8 Tablet with Alexa, 8 HD Display, 16 ...   \n",
       "28329  Fire HD 8 Tablet with Alexa, 8 HD Display, 16 ...   \n",
       "28330  Fire HD 8 Tablet with Alexa, 8 HD Display, 16 ...   \n",
       "28331  Fire HD 8 Tablet with Alexa, 8 HD Display, 16 ...   \n",
       "\n",
       "                       asins  \\\n",
       "0      B00QWO9P0O,B00LH3DMUO   \n",
       "1      B00QWO9P0O,B00LH3DMUO   \n",
       "2      B00QWO9P0O,B00LH3DMUO   \n",
       "3      B00QWO9P0O,B00LH3DMUO   \n",
       "4      B00QWO9P0O,B00LH3DMUO   \n",
       "...                      ...   \n",
       "28327             B018T075DC   \n",
       "28328             B018T075DC   \n",
       "28329             B018T075DC   \n",
       "28330             B018T075DC   \n",
       "28331             B018T075DC   \n",
       "\n",
       "                                              categories primaryCategories  \\\n",
       "0      AA,AAA,Health,Electronics,Health & Household,C...   Health & Beauty   \n",
       "1      AA,AAA,Health,Electronics,Health & Household,C...   Health & Beauty   \n",
       "2      AA,AAA,Health,Electronics,Health & Household,C...   Health & Beauty   \n",
       "3      AA,AAA,Health,Electronics,Health & Household,C...   Health & Beauty   \n",
       "4      AA,AAA,Health,Electronics,Health & Household,C...   Health & Beauty   \n",
       "...                                                  ...               ...   \n",
       "28327  Fire Tablets,Tablets,All Tablets,Amazon Tablet...       Electronics   \n",
       "28328  Fire Tablets,Tablets,All Tablets,Amazon Tablet...       Electronics   \n",
       "28329  Fire Tablets,Tablets,All Tablets,Amazon Tablet...       Electronics   \n",
       "28330  Fire Tablets,Tablets,All Tablets,Amazon Tablet...       Electronics   \n",
       "28331  Fire Tablets,Tablets,All Tablets,Amazon Tablet...       Electronics   \n",
       "\n",
       "                                               imageURLs  manufacturer  \\\n",
       "0      https://images-na.ssl-images-amazon.com/images...  AmazonBasics   \n",
       "1      https://images-na.ssl-images-amazon.com/images...  AmazonBasics   \n",
       "2      https://images-na.ssl-images-amazon.com/images...  AmazonBasics   \n",
       "3      https://images-na.ssl-images-amazon.com/images...  AmazonBasics   \n",
       "4      https://images-na.ssl-images-amazon.com/images...  AmazonBasics   \n",
       "...                                                  ...           ...   \n",
       "28327  https://www.upccodesearch.com/images/barcode/0...        Amazon   \n",
       "28328  https://www.upccodesearch.com/images/barcode/0...        Amazon   \n",
       "28329  https://www.upccodesearch.com/images/barcode/0...        Amazon   \n",
       "28330  https://www.upccodesearch.com/images/barcode/0...        Amazon   \n",
       "28331  https://www.upccodesearch.com/images/barcode/0...        Amazon   \n",
       "\n",
       "                   reviews.date reviews.doRecommend reviews.numHelpful  \\\n",
       "0      2017-03-02T00:00:00.000Z         Unavailable        Unavailable   \n",
       "1      2016-08-31T00:00:00.000Z         Unavailable        Unavailable   \n",
       "2      2016-12-06T00:00:00.000Z         Unavailable        Unavailable   \n",
       "3      2016-03-28T00:00:00.000Z         Unavailable        Unavailable   \n",
       "4      2017-04-22T00:00:00.000Z         Unavailable        Unavailable   \n",
       "...                         ...                 ...                ...   \n",
       "28327  2016-12-07T00:00:00.000Z                True                0.0   \n",
       "28328  2017-01-20T00:00:00.000Z                True                0.0   \n",
       "28329  2017-01-30T00:00:00.000Z                True                0.0   \n",
       "28330  2017-02-17T00:00:00.000Z                True                0.0   \n",
       "28331  2016-12-23T00:00:00.000Z                True                0.0   \n",
       "\n",
       "       reviews.rating                                 reviews.sourceURLs  \\\n",
       "0                   3  https://www.amazon.com/product-reviews/B00QWO9...   \n",
       "1                   4  https://www.amazon.com/product-reviews/B00QWO9...   \n",
       "2                   5  https://www.amazon.com/product-reviews/B00QWO9...   \n",
       "3                   5  https://www.amazon.com/product-reviews/B00QWO9...   \n",
       "4                   5  https://www.amazon.com/product-reviews/B00QWO9...   \n",
       "...               ...                                                ...   \n",
       "28327               5  http://reviews.bestbuy.com/3545/5620410/review...   \n",
       "28328               4  http://reviews.bestbuy.com/3545/5620410/review...   \n",
       "28329               5  http://reviews.bestbuy.com/3545/5620410/review...   \n",
       "28330               5  http://reviews.bestbuy.com/3545/5620410/review...   \n",
       "28331               4  http://reviews.bestbuy.com/3545/5620410/review...   \n",
       "\n",
       "                                            reviews.text  \\\n",
       "0      I order 3 of them and one of the item is bad q...   \n",
       "1      Bulk is always the less expensive way to go fo...   \n",
       "2      Well they are not Duracell but for the price i...   \n",
       "3      Seem to work as well as name brand batteries a...   \n",
       "4      These batteries are very long lasting the pric...   \n",
       "...                                                  ...   \n",
       "28327  I got 2 of these for my 8 yr old twins. My 11 ...   \n",
       "28328  I bought this for my niece for a Christmas gif...   \n",
       "28329  Very nice for light internet browsing, keeping...   \n",
       "28330  This Tablet does absolutely everything I want!...   \n",
       "28331  At ninety dollars, the expectionations are low...   \n",
       "\n",
       "                                           reviews.title  reviews.username  \\\n",
       "0      ... 3 of them and one of the item is bad quali...        Byger yang   \n",
       "1      ... always the less expensive way to go for pr...              ByMG   \n",
       "2      ... are not Duracell but for the price i am ha...  BySharon Lambert   \n",
       "3      ... as well as name brand batteries at a much ...     Bymark sexson   \n",
       "4      ... batteries are very long lasting the price ...           Bylinda   \n",
       "...                                                  ...               ...   \n",
       "28327                                          Xmas gift    Mom2twinsplus1   \n",
       "28328                          yes it is a great tablet.         fireman21   \n",
       "28329                       You get a lot for the price!    suzannalicious   \n",
       "28330       You get the entire World for less than $100!            SandyJ   \n",
       "28331                       You get what your paying for              Hung   \n",
       "\n",
       "                                              sourceURLs  latitude  \\\n",
       "0      https://www.barcodable.com/upc/841710106442,ht...  40.72371   \n",
       "1      https://www.barcodable.com/upc/841710106442,ht...  41.48199   \n",
       "2      https://www.barcodable.com/upc/841710106442,ht...  30.17746   \n",
       "3      https://www.barcodable.com/upc/841710106442,ht...  41.72059   \n",
       "4      https://www.barcodable.com/upc/841710106442,ht...  33.93113   \n",
       "...                                                  ...       ...   \n",
       "28327  http://reviews.bestbuy.com/3545/5620410/review...   41.0051   \n",
       "28328  http://reviews.bestbuy.com/3545/5620410/review...  40.65995   \n",
       "28329  http://reviews.bestbuy.com/3545/5620410/review...  35.61452   \n",
       "28330  http://reviews.bestbuy.com/3545/5620410/review...  40.24537   \n",
       "28331  http://reviews.bestbuy.com/3545/5620410/review...  40.67705   \n",
       "\n",
       "        longitude                            location  \n",
       "0       -73.95097  (Greenpoint, US, America/New_York)  \n",
       "1       -81.79819  (Greenpoint, US, America/New_York)  \n",
       "2       -81.38758  (Greenpoint, US, America/New_York)  \n",
       "3       -87.70172  (Greenpoint, US, America/New_York)  \n",
       "4      -117.54866  (Greenpoint, US, America/New_York)  \n",
       "...           ...                                 ...  \n",
       "28327   -73.78458  (Greenpoint, US, America/New_York)  \n",
       "28328  -111.99633  (Greenpoint, US, America/New_York)  \n",
       "28329   -88.81395  (Greenpoint, US, America/New_York)  \n",
       "28330   -75.64963  (Greenpoint, US, America/New_York)  \n",
       "28331   -73.89125  (Greenpoint, US, America/New_York)  \n",
       "\n",
       "[28332 rows x 18 columns]"
      ]
     },
     "execution_count": 80,
     "metadata": {},
     "output_type": "execute_result"
    }
   ],
   "source": [
    "df"
   ]
  },
  {
   "cell_type": "code",
   "execution_count": 82,
   "metadata": {},
   "outputs": [],
   "source": [
    "#df.to_csv('Amazon-Reviews-Large-with-loc.csv', index = False)"
   ]
  },
  {
   "cell_type": "code",
   "execution_count": 83,
   "metadata": {},
   "outputs": [
    {
     "data": {
      "text/plain": [
       "'https://dummyimage.com/819x990'"
      ]
     },
     "execution_count": 83,
     "metadata": {},
     "output_type": "execute_result"
    }
   ],
   "source": [
    "fake.image_url()\n"
   ]
  },
  {
   "cell_type": "code",
   "execution_count": null,
   "metadata": {},
   "outputs": [],
   "source": []
  }
 ],
 "metadata": {
  "kernelspec": {
   "display_name": "Python 3",
   "language": "python",
   "name": "python3"
  },
  "language_info": {
   "codemirror_mode": {
    "name": "ipython",
    "version": 3
   },
   "file_extension": ".py",
   "mimetype": "text/x-python",
   "name": "python",
   "nbconvert_exporter": "python",
   "pygments_lexer": "ipython3",
   "version": "3.8.5"
  }
 },
 "nbformat": 4,
 "nbformat_minor": 4
}
